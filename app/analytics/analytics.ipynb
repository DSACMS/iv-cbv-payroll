{
 "cells": [
  {
   "cell_type": "code",
   "execution_count": 3,
   "id": "e576f097-1ccf-4a99-9815-0c704a2d04f0",
   "metadata": {},
   "outputs": [
    {
     "name": "stdout",
     "output_type": "stream",
     "text": [
      "Successfully fetched 23792 events.\n",
      "                               event  \\\n",
      "0           ApplicantViewedHelpTopic   \n",
      "1  ApplicantClickedCBVInvitationLink   \n",
      "2                        CbvPageView   \n",
      "3           ApplicantViewedAgreement   \n",
      "4          ApplicantConsentedToTerms   \n",
      "\n",
      "                                          properties  \n",
      "0  {'time': 1754388692, 'distinct_id': '241211968...  \n",
      "1  {'time': 1754446410, 'distinct_id': 'applicant...  \n",
      "2  {'time': 1754446410, 'distinct_id': 'applicant...  \n",
      "3  {'time': 1754446411, 'distinct_id': 'applicant...  \n",
      "4  {'time': 1754446420, 'distinct_id': 'applicant...  \n"
     ]
    }
   ],
   "source": [
    "import json\n",
    "import os\n",
    "import pandas as pd\n",
    "import requests\n",
    "from dotenv import load_dotenv\n",
    "from mixpanel import Mixpanel\n",
    "\n",
    "# Credentials\n",
    "project_root = os.path.dirname(os.getcwd())\n",
    "dotenv_path = os.path.join(project_root, '.env.local')\n",
    "load_dotenv(dotenv_path=dotenv_path)\n",
    "SA_USERNAME = os.getenv(\"MIXPANEL_SERVICE_ACCOUNT_USERNAME\").strip()\n",
    "SA_SECRET = os.getenv(\"MIXPANEL_SERVICE_ACCOUNT_SECRET\").strip()\n",
    "PROJECT_ID = os.getenv(\"MIXPANEL_PROJECT_ID\").strip()\n",
    "\n",
    "# Endpoint\n",
    "API_ENDPOINT = 'https://data.mixpanel.com/api/2.0/export'\n",
    "headers = {\"accept\": \"text/plain\"}\n",
    "\n",
    "# Date range\n",
    "params = {\n",
    "    'from_date': '2025-08-01',\n",
    "    'to_date': '2025-08-07',\n",
    "    'project_id': PROJECT_ID\n",
    "}\n",
    "\n",
    "# Make the request\n",
    "response = requests.get(\n",
    "    API_ENDPOINT,\n",
    "    headers=headers,\n",
    "    params=params,\n",
    "    auth=(SA_USERNAME, SA_SECRET)\n",
    ")\n",
    "\n",
    "if response.status_code == 200:\n",
    "    raw_data = []\n",
    "    lines = response.text.strip().split('\\n')\n",
    "    for line in lines:\n",
    "        try:\n",
    "            # Each line is a separate event\n",
    "            raw_data.append(json.loads(line))\n",
    "        except json.JSONDecodeError:\n",
    "            print(f\"Warning: Could not decode line: {line}\")\n",
    "    \n",
    "    df = pd.DataFrame(raw_data)\n",
    "    print(f\"Successfully fetched {len(df)} events.\")\n",
    "    print(df.head())\n",
    "else:\n",
    "    print(f\"Error: API request failed with status code {response.status_code}\")\n",
    "    print(response.text)"
   ]
  },
  {
   "cell_type": "code",
   "execution_count": null,
   "id": "ec3672df-453e-499d-a816-922911d76de7",
   "metadata": {},
   "outputs": [],
   "source": []
  }
 ],
 "metadata": {
  "kernelspec": {
   "display_name": "Python 3 (ipykernel)",
   "language": "python",
   "name": "python3"
  },
  "language_info": {
   "codemirror_mode": {
    "name": "ipython",
    "version": 3
   },
   "file_extension": ".py",
   "mimetype": "text/x-python",
   "name": "python",
   "nbconvert_exporter": "python",
   "pygments_lexer": "ipython3",
   "version": "3.12.0"
  }
 },
 "nbformat": 4,
 "nbformat_minor": 5
}
